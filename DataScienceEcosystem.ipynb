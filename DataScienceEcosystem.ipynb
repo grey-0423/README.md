{
 "cells": [
  {
   "cell_type": "code",
   "execution_count": null,
   "id": "95dbe7e0-c6dd-4cd7-a150-f96c7a6399b1",
   "metadata": {
    "tags": []
   },
   "outputs": [],
   "source": [
    "# Data Science Tools and Ecosystem"
   ]
  },
  {
   "cell_type": "code",
   "execution_count": null,
   "id": "4d2d6cf8-52e3-4174-8056-1452c0c2bab8",
   "metadata": {},
   "outputs": [],
   "source": [
    "In this notebook, Data Science Tools and Ecosystem are summarized."
   ]
  },
  {
   "cell_type": "markdown",
   "id": "695dae49-733b-4310-8169-2897ed530a4f",
   "metadata": {
    "tags": []
   },
   "source": [
    "Some of the popular languages that Data Scientists use are:\n",
    "1. Python\n",
    "2. Java\n",
    "3. C"
   ]
  },
  {
   "cell_type": "markdown",
   "id": "ea4348c3-3d52-4d09-9b2c-60dc8b85da5d",
   "metadata": {},
   "source": [
    "Some of the commonly used libraries used by Data Scientists include:\n",
    "1. Pandas\n",
    "2. NumPy\n",
    "3. TensorFlow"
   ]
  },
  {
   "cell_type": "markdown",
   "id": "32a9a109-3153-4793-b75d-b2c3c9edca02",
   "metadata": {},
   "source": [
    "|Data Science Tools | \n",
    "| ------------------| \n",
    "| Jupyter notebooks |\n",
    "|  R studio  |\n",
    "|   Spyder   | "
   ]
  },
  {
   "cell_type": "markdown",
   "id": "76f9c375-7715-4dbb-b117-e6c74244e99b",
   "metadata": {},
   "source": [
    "### Below are a few examples of evaluating arithmetic expressions in Python"
   ]
  },
  {
   "cell_type": "code",
   "execution_count": 31,
   "id": "2701b6b6-1146-40e6-b30f-3b57ff3f6912",
   "metadata": {
    "tags": []
   },
   "outputs": [
    {
     "data": {
      "text/plain": [
       "17"
      ]
     },
     "execution_count": 31,
     "metadata": {},
     "output_type": "execute_result"
    }
   ],
   "source": [
    "#This a simple arithmetic expression to mutiply then add integers\n",
    "(3*4)+5"
   ]
  },
  {
   "cell_type": "code",
   "execution_count": 32,
   "id": "7d082355-cd21-47a5-96e2-edd2dc3f1ac6",
   "metadata": {
    "tags": []
   },
   "outputs": [
    {
     "name": "stdout",
     "output_type": "stream",
     "text": [
      "3.3333333333333335hours\n"
     ]
    }
   ],
   "source": [
    "#This will convert 200 minutes to hours by diving by 60\n",
    "minute=200\n",
    "hour=minute/60\n",
    "H='hours'\n",
    "print(str(hour)+H)"
   ]
  },
  {
   "cell_type": "code",
   "execution_count": null,
   "id": "a0344d01-01ed-4bea-8bdd-a652841f52e5",
   "metadata": {},
   "outputs": [],
   "source": [
    "**Objectives:**\n",
    "- python\n",
    "- Java\n",
    "- C"
   ]
  },
  {
   "cell_type": "markdown",
   "id": "dea61b72-e9e6-4669-8818-e16ccc6e5645",
   "metadata": {},
   "source": [
    "## Author\n",
    "Grey Zhang"
   ]
  },
  {
   "cell_type": "code",
   "execution_count": null,
   "id": "3920d288-95b4-4b9f-b310-42725b81fe7d",
   "metadata": {},
   "outputs": [],
   "source": []
  }
 ],
 "metadata": {
  "kernelspec": {
   "display_name": "Python",
   "language": "python",
   "name": "conda-env-python-py"
  },
  "language_info": {
   "codemirror_mode": {
    "name": "ipython",
    "version": 3
   },
   "file_extension": ".py",
   "mimetype": "text/x-python",
   "name": "python",
   "nbconvert_exporter": "python",
   "pygments_lexer": "ipython3",
   "version": "3.7.12"
  }
 },
 "nbformat": 4,
 "nbformat_minor": 5
}
